{
  "nbformat": 4,
  "nbformat_minor": 0,
  "metadata": {
    "colab": {
      "name": "Streamlit.ipynb",
      "provenance": [],
      "collapsed_sections": [],
      "mount_file_id": "1DXuj8eFdcl8yJi_3FsTEvivhF-d_cN5D",
      "authorship_tag": "ABX9TyNc/+SIoacKTHwYkbsJwLMl",
      "include_colab_link": true
    },
    "kernelspec": {
      "name": "python3",
      "display_name": "Python 3"
    },
    "language_info": {
      "name": "python"
    }
  },
  "cells": [
    {
      "cell_type": "markdown",
      "metadata": {
        "id": "view-in-github",
        "colab_type": "text"
      },
      "source": [
        "<a href=\"https://colab.research.google.com/github/daakanksha/Fruits-classification-by-transfer-learning/blob/main/Streamlit.ipynb\" target=\"_parent\"><img src=\"https://colab.research.google.com/assets/colab-badge.svg\" alt=\"Open In Colab\"/></a>"
      ]
    },
    {
      "cell_type": "code",
      "metadata": {
        "colab": {
          "base_uri": "https://localhost:8080/"
        },
        "id": "S81BqI8f5Hgo",
        "outputId": "84ab40e0-7ad8-49ce-818e-95d99a50cba2"
      },
      "source": [
        "!pip install streamlit --quiet\n",
        "!pip install pyngrok==4.1.1 --quiet\n",
        "!pip install streamlit-drawable-canvas --quiet"
      ],
      "execution_count": 3,
      "outputs": [
        {
          "output_type": "stream",
          "text": [
            "\u001b[K     |████████████████████████████████| 7.8MB 4.9MB/s \n",
            "\u001b[K     |████████████████████████████████| 112kB 53.5MB/s \n",
            "\u001b[K     |████████████████████████████████| 174kB 48.5MB/s \n",
            "\u001b[K     |████████████████████████████████| 4.2MB 31.6MB/s \n",
            "\u001b[K     |████████████████████████████████| 81kB 7.9MB/s \n",
            "\u001b[K     |████████████████████████████████| 71kB 6.3MB/s \n",
            "\u001b[K     |████████████████████████████████| 122kB 42.3MB/s \n",
            "\u001b[K     |████████████████████████████████| 788kB 25.4MB/s \n",
            "\u001b[K     |████████████████████████████████| 368kB 46.2MB/s \n",
            "\u001b[?25h  Building wheel for blinker (setup.py) ... \u001b[?25l\u001b[?25hdone\n",
            "\u001b[31mERROR: jupyter-console 5.2.0 has requirement prompt-toolkit<2.0.0,>=1.0.0, but you'll have prompt-toolkit 3.0.19 which is incompatible.\u001b[0m\n",
            "\u001b[31mERROR: google-colab 1.0.0 has requirement ipykernel~=4.10, but you'll have ipykernel 6.0.2 which is incompatible.\u001b[0m\n",
            "\u001b[31mERROR: google-colab 1.0.0 has requirement ipython~=5.5.0, but you'll have ipython 7.25.0 which is incompatible.\u001b[0m\n",
            "  Building wheel for pyngrok (setup.py) ... \u001b[?25l\u001b[?25hdone\n",
            "\u001b[K     |████████████████████████████████| 1.3MB 5.4MB/s \n",
            "\u001b[?25h"
          ],
          "name": "stdout"
        }
      ]
    },
    {
      "cell_type": "code",
      "metadata": {
        "colab": {
          "base_uri": "https://localhost:8080/"
        },
        "id": "sG93nJa7giDb",
        "outputId": "5efe870f-9c13-4fdd-d856-e5578decc127"
      },
      "source": [
        "%%writefile app.py\n",
        "\n",
        "import os\n",
        "import cv2\n",
        "import streamlit as st\n",
        "from streamlit_drawable_canvas import st_canvas\n",
        "import time\n",
        "import urllib\n",
        "import numpy as np\n",
        "from PIL import Image\n",
        "from tensorflow import keras\n",
        "from tensorflow.keras.preprocessing import image\n",
        "from tensorflow.keras.preprocessing.image import load_img\n",
        "from tensorflow.keras.models import load_model\n",
        "# @st.cache(allow_output_mutation=True, suppress_st_warning=True)\n",
        "html_temp = \"\"\"\n",
        "    <div style =  padding-bottom: 20px; padding-top: 20px; padding-left: 5px; padding-right: 5px\">\n",
        "    <center><h1>Fruit Classifier</h1></center>    \n",
        "    </div>\n",
        "    \"\"\"\n",
        "st.markdown(html_temp, unsafe_allow_html=True)\n",
        "html_temp = \"\"\"\n",
        "    <div>\n",
        "    <h2></h2>\n",
        "    <center><h3>Please upload any Fruit Image from the given list</h3></center>\n",
        "    <center><h3> [Fruits] </h3></center>\n",
        "    </div>\n",
        "    \"\"\"\n",
        "st.set_option(\"deprecation.showfileUploaderEncoding\", False)\n",
        "st.markdown(html_temp, unsafe_allow_html=True)\n",
        "opt = st.selectbox(\n",
        "    \"How do you want to upload the image for classification?\\n\",\n",
        "    (\"Please Select\", \"Upload image via link\", \"Upload image from device\"),\n",
        ")\n",
        "if opt == \"Upload image from device\":\n",
        "    file = st.file_uploader(\"Select\", type=[\"jpg\", \"png\", \"jpeg\"])\n",
        "    st.set_option(\"deprecation.showfileUploaderEncoding\", False)\n",
        "    if file is not None:\n",
        "        image = Image.open(file)\n",
        "elif opt == \"Upload image via link\":\n",
        "    try:\n",
        "        img = st.text_input(\"Enter the Image Address\")\n",
        "        image = Image.open(urllib.request.urlopen(img))\n",
        "    except:\n",
        "        if st.button(\"Submit\"):\n",
        "            show = st.error(\"Please Enter a valid Image Address!\")\n",
        "            time.sleep(4)\n",
        "            show.empty()\n",
        "if image is not None:\n",
        "    try:\n",
        "        st.image(image, width=300, caption=\"Uploaded Image\")\n",
        "        if st.button(\"Classify\"):\n",
        "            img_array = np.array(image.resize((128, 128), Image.ANTIALIAS))\n",
        "            img_array = np.array(img_array, dtype=\"uint8\")\n",
        "            img_array = np.array(img_array) / 255.0\n",
        "            model_dir = \"/content/transfer_learning.hdf5\"\n",
        "            model = keras.models.load_model(model_dir)\n",
        "            # Predicting\n",
        "            predictions = model.predict(img_array[np.newaxis, ...])\n",
        "            acc = np.max(predictions[0]) * 100\n",
        "            result = np.argmax(predictions[0], axis=-1)\n",
        "            # Displaying output\n",
        "            st.info(f'The uploaded image has been classified as \" {result}\" with confidence {acc}%.')\n",
        "    except:\n",
        "        st.success(\"Please enter an Input Image of an appropriate format :) \")"
      ],
      "execution_count": 4,
      "outputs": [
        {
          "output_type": "stream",
          "text": [
            "Overwriting app.py\n"
          ],
          "name": "stdout"
        }
      ]
    },
    {
      "cell_type": "code",
      "metadata": {
        "colab": {
          "base_uri": "https://localhost:8080/",
          "height": 52
        },
        "id": "Xjr1vxzD8X5c",
        "outputId": "fb0d6187-617d-4a6e-c4f9-72fd1906a590"
      },
      "source": [
        "from pyngrok import ngrok\n",
        "!nohup streamlit run app.py &\n",
        "url = ngrok.connect(port='8501')\n",
        "url"
      ],
      "execution_count": 5,
      "outputs": [
        {
          "output_type": "stream",
          "text": [
            "nohup: appending output to 'nohup.out'\n"
          ],
          "name": "stdout"
        },
        {
          "output_type": "execute_result",
          "data": {
            "application/vnd.google.colaboratory.intrinsic+json": {
              "type": "string"
            },
            "text/plain": [
              "'http://029799565bf5.ngrok.io'"
            ]
          },
          "metadata": {
            "tags": []
          },
          "execution_count": 5
        }
      ]
    }
  ]
}